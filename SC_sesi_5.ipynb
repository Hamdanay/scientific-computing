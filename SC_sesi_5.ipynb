{
  "nbformat": 4,
  "nbformat_minor": 0,
  "metadata": {
    "colab": {
      "provenance": [],
      "authorship_tag": "ABX9TyO1bo8tkaiNYkRuio+hR3ml",
      "include_colab_link": true
    },
    "kernelspec": {
      "name": "python3",
      "display_name": "Python 3"
    },
    "language_info": {
      "name": "python"
    }
  },
  "cells": [
    {
      "cell_type": "markdown",
      "metadata": {
        "id": "view-in-github",
        "colab_type": "text"
      },
      "source": [
        "<a href=\"https://colab.research.google.com/github/Hamdanay/scientific-computing/blob/main/SC_sesi_5.ipynb\" target=\"_parent\"><img src=\"https://colab.research.google.com/assets/colab-badge.svg\" alt=\"Open In Colab\"/></a>"
      ]
    },
    {
      "cell_type": "code",
      "execution_count": 2,
      "metadata": {
        "colab": {
          "base_uri": "https://localhost:8080/"
        },
        "id": "gKt9yETe2dz9",
        "outputId": "eeaffc45-73d7-428f-fc19-a03245761bdc"
      },
      "outputs": [
        {
          "output_type": "stream",
          "name": "stdout",
          "text": [
            "1.9835235375094546\n",
            "0.01647646249054535\n",
            "1.9835235375094546\n",
            "0.01647646249054535\n",
            "2.0082484079079745\n",
            "-0.008248407907974542\n"
          ]
        }
      ],
      "source": [
        "import numpy as np\n",
        "\n",
        "a=0\n",
        "b=np.pi\n",
        "n=11\n",
        "h=(b-a)/(n-1)\n",
        "x=np.linspace(a, b, n)\n",
        "f=np.sin(x)\n",
        "\n",
        "I_riemannL=h*sum(f[:n-1])\n",
        "err_riemannL=2-I_riemannL\n",
        "\n",
        "I_riemannR=h*sum(f[1::1])\n",
        "err_riemannR=2-I_riemannR\n",
        "\n",
        "I_mid=h*sum(np.sin((x[:n-1]\\\n",
        "                     +x[1:])/2))\n",
        "err_mid=2-I_mid\n",
        "\n",
        "print(I_riemannL)\n",
        "print(err_riemannL)\n",
        "\n",
        "print(I_riemannR)\n",
        "print(err_riemannR)\n",
        "\n",
        "print(I_mid)\n",
        "print(err_mid)\n",
        "\n"
      ]
    },
    {
      "cell_type": "code",
      "source": [
        "import numpy as np\n",
        "\n",
        "a=0\n",
        "b=np.pi\n",
        "n=11\n",
        "h=(b-a)/(n-1)\n",
        "x=np.linspace(a, b, n)\n",
        "f=np.sin(x)\n",
        "\n",
        "I_trap=(h/2)*(f[0]+\\\n",
        "              2*sum(f[1:n-1]+f[n-1]))\n",
        "err_trap=2-I_trap\n",
        "\n",
        "print(I_trap)\n",
        "print(err_trap)"
      ],
      "metadata": {
        "colab": {
          "base_uri": "https://localhost:8080/"
        },
        "id": "UlQTmTUx5C2N",
        "outputId": "d7683fd5-1ef0-4e0a-a066-c19363ac0ffa"
      },
      "execution_count": 4,
      "outputs": [
        {
          "output_type": "stream",
          "name": "stdout",
          "text": [
            "1.9835235375094546\n",
            "0.01647646249054535\n"
          ]
        }
      ]
    },
    {
      "cell_type": "code",
      "source": [
        "import numpy as np\n",
        "from scipy.integrate import trapezoid\n",
        "\n",
        "a=0\n",
        "b=np.pi\n",
        "n=11\n",
        "h=(b-a)/(n-1)\n",
        "x=np.linspace(a, b, n)\n",
        "f=np.sin(x)\n",
        "\n",
        "I_trapz=trapezoid(f,x)\n",
        "I_trap=(h/2)*(f[0]+2*sum(f[1:n-1])+f[n-1])\n",
        "\n",
        "print(I_trapz)\n",
        "print(I_trap)"
      ],
      "metadata": {
        "colab": {
          "base_uri": "https://localhost:8080/"
        },
        "id": "PkK86SWD56a0",
        "outputId": "27a34e9b-3c82-4ad9-f95d-4e27e928b9c5"
      },
      "execution_count": 7,
      "outputs": [
        {
          "output_type": "stream",
          "name": "stdout",
          "text": [
            "1.9835235375094544\n",
            "1.9835235375094546\n"
          ]
        }
      ]
    }
  ]
}