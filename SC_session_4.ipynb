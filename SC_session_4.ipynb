{
  "cells": [
    {
      "cell_type": "markdown",
      "metadata": {
        "id": "view-in-github",
        "colab_type": "text"
      },
      "source": [
        "<a href=\"https://colab.research.google.com/github/Hamdanay/scientific-computing/blob/main/SC_session_4.ipynb\" target=\"_parent\"><img src=\"https://colab.research.google.com/assets/colab-badge.svg\" alt=\"Open In Colab\"/></a>"
      ]
    },
    {
      "cell_type": "code",
      "source": [
        "import numpy as np\n",
        "\n",
        "def my_bisection(f, a, b, tol):\n",
        "    # approximate a root, R, of f bounded\n",
        "    # by a and b to within tolerance\n",
        "    # | f(m) | < tol with m the midpoint\n",
        "    # between a and b recursive implementation\n",
        "\n",
        "  if np.sign(f(a))==np.sign(f(b)):\n",
        "        raise Exception(\n",
        "            \"The scalars a and b do not bound a root\")\n",
        "  #get midpoint\n",
        "  m = (a + b)/2\n",
        "  if np.abs(f(m)) < tol :\n",
        "  #stopping condition, report m as root\n",
        "    return m\n",
        "  elif np.sign(f(a)) == np.sign(f(m)):\n",
        "  #case where m is an improvement on a\n",
        "  #make recursive call with a = m\n",
        "    return my_bisection(f, m, b, tol)\n",
        "\n",
        "  elif np.sign(f(b)) == np.sign(f(m)):\n",
        "\n",
        "    return my_bisection(f, a, m, tol)"
      ],
      "metadata": {
        "id": "re5O4og4sp2r"
      },
      "execution_count": null,
      "outputs": []
    },
    {
      "cell_type": "code",
      "source": [
        "f = lambda x: x**2 - 2\n",
        "\n",
        "r1 = my_bisection(f, 0, 2, 0.1)\n",
        "print(\"r1 =\", r1)\n",
        "r01 = my_bisection(f, 0, 2, 0.01)\n",
        "print(\"r01 =\", r01)\n",
        "\n",
        "print(\"(r1) =\", f(r1))\n",
        "print(\"f(r01) =\", f(r01))"
      ],
      "metadata": {
        "id": "a9ReoAanvuea",
        "outputId": "464f2fdc-1a84-4539-eaec-25445052e4c3",
        "colab": {
          "base_uri": "https://localhost:8080/"
        }
      },
      "execution_count": null,
      "outputs": [
        {
          "output_type": "stream",
          "name": "stdout",
          "text": [
            "r1 = 1.4375\n",
            "r01 = 1.4140625\n",
            "(r1) = 0.06640625\n",
            "f(r01) = -0.00042724609375\n"
          ]
        }
      ]
    },
    {
      "cell_type": "code",
      "source": [
        "import numpy as np\n",
        "\n",
        "f=lambda x: x**2 - 2\n",
        "f_prime=lambda x: 2*x\n",
        "newton_raphson = 1.4 - (f(1.4))/(f_prime(1.4))\n",
        "\n",
        "print(\"newton_raphson =\", newton_raphson)\n",
        "print (\"sqrt(2) =\", np.sqrt(2))"
      ],
      "metadata": {
        "id": "zY6FWfPLzG90",
        "outputId": "28acb016-e0cb-48c1-c7e6-2397ef1ff8a0",
        "colab": {
          "base_uri": "https://localhost:8080/"
        }
      },
      "execution_count": null,
      "outputs": [
        {
          "output_type": "stream",
          "name": "stdout",
          "text": [
            "newton_raphson = 1.4142857142857144\n",
            "sqrt(2) = 1.4142135623730951\n"
          ]
        }
      ]
    },
    {
      "cell_type": "code",
      "source": [
        "def my_newton(f, df, x0, tol):\n",
        "  #output is an estimation the root of f\n",
        "  #using the newton raphson method\n",
        "  #recursive implementation\n",
        "\n",
        "  if abs(f(x0)) < tol:\n",
        "    return x0\n",
        "  else:\n",
        "    return my_newton(f, df, x0 - f(x0)/df(x0), tol)"
      ],
      "metadata": {
        "id": "qQwECBYd0jxQ"
      },
      "execution_count": null,
      "outputs": []
    },
    {
      "cell_type": "code",
      "source": [
        "import numpy as np\n",
        "\n",
        "# Definisikan fungsi f(x) = sin(x) - x\n",
        "def f(x):\n",
        "    return np.sin(x) - x\n",
        "\n",
        "# Fungsi Bisection\n",
        "def bisection(f, a, b, tol=0.01, max_iter=1000):\n",
        "    if np.sign(f(a)) == np.sign(f(b)):\n",
        "        raise Exception(\"f(a) dan f(b) harus memiliki tanda yang berbeda\")\n",
        "\n",
        "    for i in range(max_iter):\n",
        "        m = (a + b) / 2\n",
        "        fm = f(m)\n",
        "\n",
        "        print(f\"Iterasi {i+1}: a = {a:.6f}, b = {b:.6f}, m = {m:.6f}, f(m) = {fm:.6f}\")\n",
        "\n",
        "        # Buat berhenti kalau f(m) sudah dekat dengan 0\n",
        "        if abs(fm) < tol:\n",
        "            print(\"f(m) < tol\")\n",
        "            return m\n",
        "\n",
        "        # Update interval\n",
        "        if np.sign(f(a)) == np.sign(fm):\n",
        "            a = m\n",
        "        else:\n",
        "            b = m\n",
        "\n",
        "    print(\"iterasi sudah maks\")\n",
        "    return m\n",
        "\n",
        "# Parameter awal\n",
        "a = 0\n",
        "b = 1\n",
        "tol = 0.01\n",
        "\n",
        "# Panggil fungsi dan cetak hasil\n",
        "akar = bisection(f, a, b, tol)\n",
        "print(f\"\\nPerkiraan akar: {akar:.6f}\")\n"
      ],
      "metadata": {
        "colab": {
          "base_uri": "https://localhost:8080/"
        },
        "id": "nDAaN94srE4e",
        "outputId": "330ff70a-eec8-48c9-abfc-f57a98fbf0f1"
      },
      "execution_count": 1,
      "outputs": [
        {
          "output_type": "stream",
          "name": "stdout",
          "text": [
            "Iterasi 1: a = 0.000000, b = 1.000000, m = 0.500000, f(m) = -0.020574\n",
            "Iterasi 2: a = 0.000000, b = 0.500000, m = 0.250000, f(m) = -0.002596\n",
            "f(m) < tol\n",
            "\n",
            "Perkiraan akar: 0.250000\n"
          ]
        }
      ]
    },
    {
      "cell_type": "code",
      "source": [
        "def f(x):\n",
        "    return x**3 - 3*x**2 + 2*x\n",
        "\n",
        "def f_prime(x):\n",
        "    return 3*x**2 - 6*x + 2\n",
        "\n",
        "# Metode Newton-Raphson\n",
        "def newton_raphson(f, f_prime, x0, tol=0.01, max_iter=1000):\n",
        "    x = x0\n",
        "    for i in range(max_iter):\n",
        "        fx = f(x)\n",
        "        fpx = f_prime(x)\n",
        "\n",
        "        if fpx == 0:\n",
        "            raise Exception(\"Turunan nol, tidak bisa lanjut (pembagi 0)\")\n",
        "\n",
        "        x_new = x - fx / fpx\n",
        "        print(f\"Iterasi {i+1}: x = {x:.6f}, f(x) = {fx:.6f}\")\n",
        "\n",
        "        # Cek toleransi\n",
        "        if abs(fx) < tol:\n",
        "            print(\"f(x) sudah cukup kecil.\")\n",
        "            return x_new\n",
        "\n",
        "        x = x_new\n",
        "\n",
        "    print(\"iterasi maksimum.\")\n",
        "    return x\n",
        "\n",
        "# Parameter soal\n",
        "x0 = 1.5\n",
        "tol = 0.01\n",
        "\n",
        "# Metode\n",
        "akar = newton_raphson(f, f_prime, x0, tol)\n",
        "print(f\"\\nPerkiraan akar f(x) adalah: {akar:.6f}\")\n"
      ],
      "metadata": {
        "colab": {
          "base_uri": "https://localhost:8080/"
        },
        "id": "8ga5O9Ni19dl",
        "outputId": "a3c136eb-dfa1-4ead-c615-5cee9046a103"
      },
      "execution_count": 4,
      "outputs": [
        {
          "output_type": "stream",
          "name": "stdout",
          "text": [
            "Iterasi 1: x = 1.500000, f(x) = -0.375000\n",
            "Iterasi 2: x = 0.000000, f(x) = 0.000000\n",
            "f(x) sudah cukup kecil.\n",
            "\n",
            "Perkiraan akar f(x) adalah: 0.000000\n"
          ]
        }
      ]
    }
  ],
  "metadata": {
    "colab": {
      "provenance": [],
      "include_colab_link": true
    },
    "kernelspec": {
      "display_name": "Python 3",
      "name": "python3"
    }
  },
  "nbformat": 4,
  "nbformat_minor": 0
}